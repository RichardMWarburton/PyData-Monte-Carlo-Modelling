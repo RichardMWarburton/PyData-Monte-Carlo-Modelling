{
 "cells": [
  {
   "cell_type": "markdown",
   "metadata": {},
   "source": [
    "# Monte Carlo Modelling: Monthly Revenue Predictions"
   ]
  },
  {
   "cell_type": "code",
   "execution_count": 1,
   "metadata": {},
   "outputs": [],
   "source": [
    "# import required packages\n",
    "import pandas as pd\n",
    "import numpy as np\n",
    "import matplotlib.pyplot as plt\n",
    "import random"
   ]
  },
  {
   "cell_type": "markdown",
   "metadata": {},
   "source": [
    "## The Data\n",
    "\n",
    "This is a fabricated data set providing a month orders for an example company.  It lists the units ordered, the unit price and any discounts that have been applied.  FRom this, we can calculate the total orderbook price and the expected revenue following the aplication of discounts.  We also have order numbers and a credit band label in the data.\n",
    "\n",
    "Each month, there is a probability that a customer will default.  This probability is based their Credit Band in the following way:\n",
    "\n",
    "|Credit Band|Default Probability|\n",
    "|--------|--------|\n",
    "|A|1%|\n",
    "|B|5%|\n",
    "|C|10%|\n",
    "|D|50%|\n",
    "\n",
    "Can we use monte carlo modelling to detmerine a revenue forecast for the month?"
   ]
  },
  {
   "cell_type": "code",
   "execution_count": 2,
   "metadata": {},
   "outputs": [
    {
     "data": {
      "text/html": [
       "<div>\n",
       "<style scoped>\n",
       "    .dataframe tbody tr th:only-of-type {\n",
       "        vertical-align: middle;\n",
       "    }\n",
       "\n",
       "    .dataframe tbody tr th {\n",
       "        vertical-align: top;\n",
       "    }\n",
       "\n",
       "    .dataframe thead th {\n",
       "        text-align: right;\n",
       "    }\n",
       "</style>\n",
       "<table border=\"1\" class=\"dataframe\">\n",
       "  <thead>\n",
       "    <tr style=\"text-align: right;\">\n",
       "      <th></th>\n",
       "      <th>Customer Number</th>\n",
       "      <th>Units</th>\n",
       "      <th>Product</th>\n",
       "      <th>Unit Price</th>\n",
       "      <th>Discount</th>\n",
       "      <th>Credit Band</th>\n",
       "      <th>Order Book Price</th>\n",
       "      <th>Revenue</th>\n",
       "    </tr>\n",
       "  </thead>\n",
       "  <tbody>\n",
       "    <tr>\n",
       "      <th>0</th>\n",
       "      <td>A-0000001</td>\n",
       "      <td>626</td>\n",
       "      <td>PROD-5</td>\n",
       "      <td>0.95</td>\n",
       "      <td>0.0</td>\n",
       "      <td>A</td>\n",
       "      <td>594.70</td>\n",
       "      <td>594.70</td>\n",
       "    </tr>\n",
       "    <tr>\n",
       "      <th>1</th>\n",
       "      <td>A-0000002</td>\n",
       "      <td>1792</td>\n",
       "      <td>PROD-4</td>\n",
       "      <td>1.50</td>\n",
       "      <td>0.0</td>\n",
       "      <td>A</td>\n",
       "      <td>2688.00</td>\n",
       "      <td>2688.00</td>\n",
       "    </tr>\n",
       "    <tr>\n",
       "      <th>2</th>\n",
       "      <td>A-0000003</td>\n",
       "      <td>1090</td>\n",
       "      <td>PROD-5</td>\n",
       "      <td>0.95</td>\n",
       "      <td>0.0</td>\n",
       "      <td>B</td>\n",
       "      <td>1035.50</td>\n",
       "      <td>1035.50</td>\n",
       "    </tr>\n",
       "    <tr>\n",
       "      <th>3</th>\n",
       "      <td>A-0000004</td>\n",
       "      <td>1463</td>\n",
       "      <td>PROD-3</td>\n",
       "      <td>2.76</td>\n",
       "      <td>0.0</td>\n",
       "      <td>A</td>\n",
       "      <td>4037.88</td>\n",
       "      <td>4037.88</td>\n",
       "    </tr>\n",
       "    <tr>\n",
       "      <th>4</th>\n",
       "      <td>A-0000005</td>\n",
       "      <td>1357</td>\n",
       "      <td>PROD-4</td>\n",
       "      <td>1.50</td>\n",
       "      <td>0.0</td>\n",
       "      <td>A</td>\n",
       "      <td>2035.50</td>\n",
       "      <td>2035.50</td>\n",
       "    </tr>\n",
       "  </tbody>\n",
       "</table>\n",
       "</div>"
      ],
      "text/plain": [
       "  Customer Number  Units Product  Unit Price  Discount Credit Band   \n",
       "0       A-0000001    626  PROD-5        0.95       0.0           A  \\\n",
       "1       A-0000002   1792  PROD-4        1.50       0.0           A   \n",
       "2       A-0000003   1090  PROD-5        0.95       0.0           B   \n",
       "3       A-0000004   1463  PROD-3        2.76       0.0           A   \n",
       "4       A-0000005   1357  PROD-4        1.50       0.0           A   \n",
       "\n",
       "   Order Book Price  Revenue  \n",
       "0            594.70   594.70  \n",
       "1           2688.00  2688.00  \n",
       "2           1035.50  1035.50  \n",
       "3           4037.88  4037.88  \n",
       "4           2035.50  2035.50  "
      ]
     },
     "execution_count": 2,
     "metadata": {},
     "output_type": "execute_result"
    }
   ],
   "source": [
    "# Import order book data\n",
    "order_book = pd.read_csv('order_book.csv')\n",
    "order_book.head()"
   ]
  },
  {
   "cell_type": "markdown",
   "metadata": {},
   "source": [
    "## Building The Model"
   ]
  },
  {
   "cell_type": "code",
   "execution_count": 3,
   "metadata": {},
   "outputs": [],
   "source": [
    "# Build dictionary to apply default probabilities\n",
    "default_prob ={'A':0.01,'B':0.05,'C':0.1, 'D':0.5}\n",
    "\n",
    "# Column of default probabilities\n",
    "order_book['Default Prob'] = order_book['Credit Band'].apply(lambda x : default_prob[x])\n"
   ]
  },
  {
   "cell_type": "code",
   "execution_count": 4,
   "metadata": {},
   "outputs": [],
   "source": [
    "# Number of games to play\n",
    "n = 500\n",
    "number_of_orders = order_book.shape[0]\n",
    "\n",
    "# Initate memory for experiment results (indexed by order and experiment)\n",
    "monthly_default_predictions = np.zeros((n))\n",
    "modelled_units = np.zeros((number_of_orders,n))\n",
    "modelled_revenue = np.zeros((number_of_orders,n))\n",
    "\n",
    "# Run n expriments\n",
    "for k in range(n):\n",
    "\n",
    "    # Initate storage for experiment results\n",
    "    exp_monthly_revenue = []\n",
    "    exp_monthly_units = []\n",
    "    defaulted_customers = 0\n",
    "\n",
    "    # For each order\n",
    "    for i in range(number_of_orders):\n",
    "        #Determine if customer defaults based on default_prob mapping\n",
    "        if random.random() <= default_prob[order_book.iloc[i,5]]:\n",
    "            # If defaulted, append 0s to results\n",
    "            exp_monthly_revenue.append(0)\n",
    "            exp_monthly_units.append(0)\n",
    "            defaulted_customers += 1\n",
    "        else:\n",
    "            # If not defaulted, append orderbook values\n",
    "            exp_monthly_revenue.append(order_book.iloc[i,7])\n",
    "            exp_monthly_units.append(order_book.iloc[i,1])\n",
    "\n",
    "    # Add experiment data to memory\n",
    "    monthly_default_predictions[k] = defaulted_customers\n",
    "    modelled_revenue[:,k] = exp_monthly_revenue\n",
    "    modelled_units[:,k] = exp_monthly_units\n",
    "\n",
    "# Calculate monthly total orders and units per experiment\n",
    "monthly_revenue_predictions = np.sum(modelled_revenue, axis=0)\n",
    "monthly_unit_predictions = np.sum(modelled_units,axis=0)\n"
   ]
  },
  {
   "cell_type": "markdown",
   "metadata": {},
   "source": [
    "## Results Analysis"
   ]
  },
  {
   "cell_type": "code",
   "execution_count": 5,
   "metadata": {},
   "outputs": [],
   "source": [
    "# Calculate Interesting Statistics\n",
    "order_book_revenue = np.sum(order_book['Order Book Price'])\n",
    "order_book_units = np.sum(order_book['Units'])\n",
    "rev_forecast = np.mean(monthly_revenue_predictions)\n",
    "rev_std = np.std(monthly_revenue_predictions)\n",
    "defaults_forecast = np.mean(monthly_default_predictions)\n",
    "defaults_std = np.std(monthly_default_predictions)\n",
    "unit_forecast = np.mean(monthly_unit_predictions)\n",
    "unit_std = np.std(monthly_unit_predictions)"
   ]
  },
  {
   "cell_type": "code",
   "execution_count": 6,
   "metadata": {},
   "outputs": [
    {
     "name": "stdout",
     "output_type": "stream",
     "text": [
      "Based on n = 500 experiments and the given orderbook:\n",
      "\n",
      "1. We predict a monthly revenue forecast of £ 1323.35k +/- £11.53k\n",
      "2. This is 94.48% of the total monthly orderbook\n",
      "3. We predict total unit sales of 730371k +/- 6217k)\n",
      "4. This is 95.27% of the orderbook units sold\n",
      "5. We predict 35 customer defaults +/- 5 this month\n"
     ]
    }
   ],
   "source": [
    "# Print out commentary to the screen\n",
    "print('Based on n = {} experiments and the given orderbook:\\n'.format(n))\n",
    "print('1. We predict a monthly revenue forecast of £ {:.2f}k +/- £{:.2f}k'.format(rev_forecast/1000,rev_std/1000))\n",
    "print('2. This is {:.2f}% of the total monthly orderbook'.format(100*rev_forecast/order_book_revenue))\n",
    "print('3. We predict total unit sales of {:.0f}k +/- {:.0f}k)'.format(unit_forecast,unit_std))\n",
    "print('4. This is {:.2f}% of the orderbook units sold'.format(100*unit_forecast/order_book_units))\n",
    "print('5. We predict %.0f customer defaults +/- %.0f this month' % (defaults_forecast,defaults_std))"
   ]
  },
  {
   "cell_type": "code",
   "execution_count": 7,
   "metadata": {},
   "outputs": [
    {
     "data": {
      "image/png": "[encoded data removed]",
      "text/plain": [
       "<Figure size 640x480 with 1 Axes>"
      ]
     },
     "metadata": {},
     "output_type": "display_data"
    }
   ],
   "source": [
    "# Plot Modelled Revenue\n",
    "fig, ax = plt.subplots()\n",
    "ax.hist(monthly_revenue_predictions,bins = 40)\n",
    "ax.set_title('Histogram of Modelled Revenue Forecasts')\n",
    "ax.set_xlabel('Revenue')\n",
    "ax.set_ylabel('Frequency')\n",
    "ax.axvline(rev_forecast,color='red',linestyle='--',label ='Revenue F\\'cast')\n",
    "ax.axvline(rev_forecast + rev_std,color = 'black', linestyle ='--', label ='Std Dev')\n",
    "ax.axvline(rev_forecast - rev_std,color = 'black', linestyle ='--')\n",
    "plt.legend(loc = 1)\n",
    "plt.show()"
   ]
  },
  {
   "cell_type": "markdown",
   "metadata": {},
   "source": [
    "## What If Analysis"
   ]
  },
  {
   "cell_type": "markdown",
   "metadata": {},
   "source": [
    "What if the probability of default dramatically changed?\n",
    "\n",
    "|Credit Band|Default Probability|\n",
    "|--------|--------|\n",
    "|A|25%|\n",
    "|B|30%|\n",
    "|C|75%|\n",
    "|D|90%|"
   ]
  },
  {
   "cell_type": "markdown",
   "metadata": {},
   "source": [
    "** *NOTE: The code below re uses variable names from earlier in this note book!!!* **"
   ]
  },
  {
   "cell_type": "code",
   "execution_count": 8,
   "metadata": {},
   "outputs": [],
   "source": [
    "# Build dictionary to apply default probabilities\n",
    "default_prob ={'A':0.25,'B':0.30,'C':0.75, 'D':0.9}\n",
    "\n",
    "# Initate memory for experiment results (indexed by order and experiment)\n",
    "monthly_default_predictions = np.zeros((n))\n",
    "modelled_units = np.zeros((number_of_orders,n))\n",
    "modelled_revenue = np.zeros((number_of_orders,n))\n",
    "\n",
    "# Run n expriments\n",
    "for k in range(n):\n",
    "\n",
    "    # Initate storage for experiment results\n",
    "    exp_monthly_revenue = []\n",
    "    exp_monthly_units = []\n",
    "    defaulted_customers = 0\n",
    "\n",
    "    # For each order\n",
    "    for i in range(number_of_orders):\n",
    "        #Determine if customer defaults based on default_prob mapping\n",
    "        if random.random() <= default_prob[order_book.iloc[i,5]]:\n",
    "            # If defaulted, append 0s to results\n",
    "            exp_monthly_revenue.append(0)\n",
    "            exp_monthly_units.append(0)\n",
    "            defaulted_customers += 1\n",
    "        else:\n",
    "            # If not defaulted, append orderbook values\n",
    "            exp_monthly_revenue.append(order_book.iloc[i,7])\n",
    "            exp_monthly_units.append(order_book.iloc[i,1])\n",
    "\n",
    "    # Add experiment data to memory\n",
    "    monthly_default_predictions[k] = defaulted_customers\n",
    "    modelled_revenue[:,k] = exp_monthly_revenue\n",
    "    modelled_units[:,k] = exp_monthly_units\n",
    "\n",
    "# Calculate monthly total orders and units per experiment\n",
    "monthly_revenue_predictions = np.sum(modelled_revenue, axis=0)\n",
    "monthly_unit_predictions = np.sum(modelled_units,axis=0)\n"
   ]
  },
  {
   "cell_type": "code",
   "execution_count": 9,
   "metadata": {},
   "outputs": [],
   "source": [
    "# Calculate Interesting Statistics\n",
    "rev_forecast = np.mean(monthly_revenue_predictions)\n",
    "rev_std = np.std(monthly_revenue_predictions)\n",
    "defaults_forecast = np.mean(monthly_default_predictions)\n",
    "defaults_std = np.std(monthly_default_predictions)\n",
    "unit_forecast = np.mean(monthly_unit_predictions)\n",
    "unit_std = np.std(monthly_unit_predictions)"
   ]
  },
  {
   "cell_type": "code",
   "execution_count": 10,
   "metadata": {},
   "outputs": [
    {
     "name": "stdout",
     "output_type": "stream",
     "text": [
      "Based on n = 500 experiments and the given orderbook:\n",
      "\n",
      "1. We predict a monthly revenue forecast of £ 837.42k +/- £25.95k\n",
      "2. This is 59.78% of the total monthly orderbook\n",
      "3. We predict total unit sales of 462750k +/- 13531k)\n",
      "4. This is 60.36% of the orderbook units sold\n",
      "5. We predict 295 customer defaults +/- 11 this month\n"
     ]
    }
   ],
   "source": [
    "# Print out commentary to the screen\n",
    "print('Based on n = {} experiments and the given orderbook:\\n'.format(n))\n",
    "print('1. We predict a monthly revenue forecast of £ {:.2f}k +/- £{:.2f}k'.format(rev_forecast/1000,rev_std/1000))\n",
    "print('2. This is {:.2f}% of the total monthly orderbook'.format(100*rev_forecast/order_book_revenue))\n",
    "print('3. We predict total unit sales of {:.0f}k +/- {:.0f}k)'.format(unit_forecast,unit_std))\n",
    "print('4. This is {:.2f}% of the orderbook units sold'.format(100*unit_forecast/order_book_units))\n",
    "print('5. We predict %.0f customer defaults +/- %.0f this month' % (defaults_forecast,defaults_std))"
   ]
  },
  {
   "cell_type": "code",
   "execution_count": 11,
   "metadata": {},
   "outputs": [
    {
     "data": {
      "image/png": "[encoded data removed]",
      "text/plain": [
       "<Figure size 640x480 with 1 Axes>"
      ]
     },
     "metadata": {},
     "output_type": "display_data"
    }
   ],
   "source": [
    "# Plot Modelled Revenue\n",
    "fig, ax = plt.subplots()\n",
    "ax.hist(monthly_revenue_predictions,bins = 40)\n",
    "ax.set_title('Histogram of Modelled Revenue Forecasts')\n",
    "ax.set_xlabel('Revenue')\n",
    "ax.set_ylabel('Frequency')\n",
    "ax.axvline(rev_forecast,color='red',linestyle='--',label ='Revenue F\\'cast')\n",
    "ax.axvline(rev_forecast + rev_std,color = 'black', linestyle ='--', label ='Std Dev')\n",
    "ax.axvline(rev_forecast - rev_std,color = 'black', linestyle ='--')\n",
    "plt.legend(loc = 1)\n",
    "plt.show()"
   ]
  },
  {
   "cell_type": "code",
   "execution_count": null,
   "metadata": {},
   "outputs": [],
   "source": []
  }
 ],
 "metadata": {
  "kernelspec": {
   "display_name": "base",
   "language": "python",
   "name": "python3"
  },
  "language_info": {
   "codemirror_mode": {
    "name": "ipython",
    "version": 3
   },
   "file_extension": ".py",
   "mimetype": "text/x-python",
   "name": "python",
   "nbconvert_exporter": "python",
   "pygments_lexer": "ipython3",
   "version": "3.11.3"
  }
 },
 "nbformat": 4,
 "nbformat_minor": 2
}
